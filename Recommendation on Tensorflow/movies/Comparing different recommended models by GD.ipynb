{
 "cells": [
  {
   "cell_type": "code",
   "execution_count": 1,
   "metadata": {},
   "outputs": [
    {
     "name": "stderr",
     "output_type": "stream",
     "text": [
      "C:\\ProgramData\\Anaconda3\\lib\\site-packages\\h5py\\__init__.py:36: FutureWarning: Conversion of the second argument of issubdtype from `float` to `np.floating` is deprecated. In future, it will be treated as `np.float64 == np.dtype(float).type`.\n",
      "  from ._conv import register_converters as _register_converters\n"
     ]
    }
   ],
   "source": [
    "import numpy as np\n",
    "import pandas as pd\n",
    "import tensorflow as tf"
   ]
  },
  {
   "cell_type": "markdown",
   "metadata": {},
   "source": [
    "# 1. 数据预处理"
   ]
  },
  {
   "cell_type": "code",
   "execution_count": 2,
   "metadata": {},
   "outputs": [],
   "source": [
    "ratings_df = pd.read_csv('ratingsProcessed.csv')\n",
    "train_rating_df = pd.read_csv('train_rating.csv')\n",
    "test_rating_df = pd.read_csv('test_rating.csv')\n",
    "userNo,movieNo = ratings_df['userId'].max()+1,ratings_df['movieId'].max()+1\n",
    "testNo = np.shape(test_rating_df)[0]"
   ]
  },
  {
   "cell_type": "code",
   "execution_count": 3,
   "metadata": {},
   "outputs": [
    {
     "data": {
      "text/plain": [
       "(611, 9742, 20168)"
      ]
     },
     "execution_count": 3,
     "metadata": {},
     "output_type": "execute_result"
    }
   ],
   "source": [
    "userNo,movieNo,testNo"
   ]
  },
  {
   "cell_type": "code",
   "execution_count": 4,
   "metadata": {},
   "outputs": [],
   "source": [
    "#ratings_df"
   ]
  },
  {
   "cell_type": "code",
   "execution_count": 5,
   "metadata": {},
   "outputs": [],
   "source": [
    "train_global_rating_mean = np.mean(train_rating_df[\"rating\"])"
   ]
  },
  {
   "cell_type": "code",
   "execution_count": 6,
   "metadata": {},
   "outputs": [
    {
     "data": {
      "text/plain": [
       "3.502076411960133"
      ]
     },
     "execution_count": 6,
     "metadata": {},
     "output_type": "execute_result"
    }
   ],
   "source": [
    "train_global_rating_mean"
   ]
  },
  {
   "cell_type": "markdown",
   "metadata": {},
   "source": [
    " # 创建训练集的用户评分矩阵train_rating和测试集用户评分矩阵test_rating"
   ]
  },
  {
   "cell_type": "code",
   "execution_count": 7,
   "metadata": {},
   "outputs": [],
   "source": [
    "train_rating = np.zeros((userNo,movieNo))\n",
    "for index ,row in train_rating_df.iterrows():\n",
    "    train_rating[int(row['userId']),int(row['movieId'])] = row['rating']\n",
    "test_rating = np.zeros((userNo,movieNo))\n",
    "for index ,row in test_rating_df.iterrows():\n",
    "    test_rating[int(row['userId']),int(row['movieId'])] = row['rating']"
   ]
  },
  {
   "cell_type": "markdown",
   "metadata": {},
   "source": [
    "# 创建训练集的用户记录矩阵train_record和测试集用户记录矩阵test_record"
   ]
  },
  {
   "cell_type": "code",
   "execution_count": 8,
   "metadata": {},
   "outputs": [],
   "source": [
    "train_record = train_rating>0\n",
    "train_record = np.array(train_record,dtype=int)\n",
    "test_record = test_rating>0\n",
    "test_record = np.array(test_record,dtype=int)"
   ]
  },
  {
   "cell_type": "markdown",
   "metadata": {},
   "source": [
    "# 2. 构建模型\n",
    "\n",
    "\n",
    "\n"
   ]
  },
  {
   "cell_type": "code",
   "execution_count": 9,
   "metadata": {},
   "outputs": [],
   "source": [
    "f = 100\n",
    "lamda = 0.01"
   ]
  },
  {
   "cell_type": "code",
   "execution_count": null,
   "metadata": {},
   "outputs": [],
   "source": []
  },
  {
   "cell_type": "markdown",
   "metadata": {},
   "source": [
    "   # 2.1 隐语义模型"
   ]
  },
  {
   "cell_type": "code",
   "execution_count": 10,
   "metadata": {},
   "outputs": [],
   "source": [
    "def createLFM():\n",
    "    LFM_P = tf.Variable(tf.random_normal([userNo,f],stddev=1/(f**0.5),dtype=tf.float32))\n",
    "    LFM_Q = tf.Variable(tf.random_normal([movieNo,f],stddev=1/(f**0.5),dtype=tf.float32))\n",
    "    LFM_predict_rating = tf.matmul(LFM_P,LFM_Q,transpose_b=True)\n",
    "    LFM_loss = tf.reduce_sum(((train_rating-LFM_predict_rating)*train_record)**2) + lamda*((tf.reduce_sum(LFM_P)**2)+(tf.reduce_sum(LFM_Q)**2))\n",
    "    return LFM_loss,LFM_predict_rating"
   ]
  },
  {
   "cell_type": "markdown",
   "metadata": {},
   "source": [
    "# 2.2 BiasSVD模型"
   ]
  },
  {
   "cell_type": "code",
   "execution_count": 11,
   "metadata": {},
   "outputs": [],
   "source": [
    "def createBSVD():\n",
    "    BIAS_u = train_global_rating_mean\n",
    "    BIAS_bu = tf.Variable(tf.zeros((userNo,1),dtype=tf.float32))\n",
    "    BIAS_bi = tf.Variable(tf.zeros((1,movieNo),dtype=tf.float32))\n",
    "    BIAS_P = tf.Variable(tf.random_normal([userNo,f],stddev=1/(f**0.5),dtype=tf.float32))\n",
    "    BIAS_Q = tf.Variable(tf.random_normal([movieNo,f],stddev=1/(f**0.5),dtype=tf.float32))\n",
    "    BIAS_predict_rating = BIAS_u + BIAS_bu + BIAS_bi + tf.matmul(BIAS_P,BIAS_Q,transpose_b=True)\n",
    "    BIAS_loss = tf.reduce_sum(((train_rating-BIAS_predict_rating)*train_record)**2) + lamda*((tf.reduce_sum(BIAS_P)**2) + (tf.reduce_sum(BIAS_Q)**2) + (tf.reduce_sum(BIAS_bu)**2) + (tf.reduce_sum(BIAS_bi)**2))\n",
    "    return BIAS_loss,BIAS_predict_rating"
   ]
  },
  {
   "cell_type": "code",
   "execution_count": null,
   "metadata": {},
   "outputs": [],
   "source": []
  },
  {
   "cell_type": "markdown",
   "metadata": {},
   "source": [
    "# 2.3 SVD++模型"
   ]
  },
  {
   "cell_type": "code",
   "execution_count": 12,
   "metadata": {},
   "outputs": [],
   "source": [
    "def createSVD():\n",
    "    SVD_u = train_global_rating_mean\n",
    "    SVD_bu = tf.Variable(tf.zeros((userNo,1),dtype=tf.float32))\n",
    "    SVD_bi = tf.Variable(tf.zeros((1,movieNo),dtype=tf.float32))\n",
    "    SVD_P = tf.Variable(tf.random_normal([userNo,f],stddev=1/(f**0.5),dtype=tf.float32))\n",
    "    SVD_Q = tf.Variable(tf.random_normal([movieNo,f],stddev=1/(f**0.5),dtype=tf.float32))\n",
    "    SVD_y = tf.Variable(tf.random_normal([movieNo,f],stddev=1/(f**0.5),dtype=tf.float32))\n",
    "    SVD_Nu = np.sum(train_record,axis=1)\n",
    "    N = np.zeros((userNo,movieNo),dtype=np.float32)\n",
    "    for i in range(0,userNo):\n",
    "        if SVD_Nu[i] == 0:\n",
    "            SVD_Nu[i] = 1\n",
    "    for i in range(0,movieNo):\n",
    "        N[:,i] = SVD_Nu\n",
    "    SVD_Nu = N**0.5\n",
    "    SVD_Qy=tf.matmul(SVD_Q,SVD_y,transpose_b=True)\n",
    "    SVD_tr = tf.constant(train_record,dtype=tf.float32)\n",
    "    SVD_predict_rating = SVD_u + SVD_bu + SVD_bi + tf.matmul(SVD_P,SVD_Q,transpose_b=True) + tf.matmul(SVD_tr,SVD_Qy)/SVD_Nu\n",
    "    SVD_loss = tf.reduce_sum(((train_rating-SVD_predict_rating)*train_record)**2) + lamda*((tf.reduce_sum(SVD_P)**2) + (tf.reduce_sum(SVD_Q)**2) + (tf.reduce_sum(SVD_bu)**2) + (tf.reduce_sum(SVD_bi)**2) + (tf.reduce_sum(SVD_y)**2))\n",
    "    return SVD_loss,SVD_predict_rating"
   ]
  },
  {
   "cell_type": "code",
   "execution_count": null,
   "metadata": {},
   "outputs": [],
   "source": []
  },
  {
   "cell_type": "markdown",
   "metadata": {},
   "source": [
    "# 2.4 ASVD模型"
   ]
  },
  {
   "cell_type": "code",
   "execution_count": 13,
   "metadata": {},
   "outputs": [],
   "source": [
    "def createASVD():\n",
    "    ASVD_u = train_global_rating_mean\n",
    "    ASVD_bu = tf.Variable(tf.zeros((userNo,1),dtype=tf.float32))\n",
    "    ASVD_bi = tf.Variable(tf.zeros((1,movieNo),dtype=tf.float32))\n",
    "    ASVD_Q = tf.Variable(tf.random_normal([movieNo,f],stddev=1/(f**0.5),dtype=tf.float32))\n",
    "    ASVD_x = tf.Variable(tf.random_normal([movieNo,f],stddev=1/(f**0.5),dtype=tf.float32))\n",
    "    ASVD_y = tf.Variable(tf.random_normal([movieNo,f],stddev=1/(f**0.5),dtype=tf.float32))\n",
    "    ASVD_train_record = tf.constant(train_record,dtype=tf.float32)\n",
    "    ASVD_test_record = tf.constant(test_record,dtype=tf.float32)\n",
    "    N = np.zeros((userNo,movieNo),dtype=np.float32)\n",
    "    R = np.zeros((userNo,movieNo),dtype=np.float32)\n",
    "    ASVD_Nu = np.sum(train_record,axis=1)\n",
    "    for i in range(0,userNo):\n",
    "        if ASVD_Nu[i] == 0:\n",
    "            ASVD_Nu[i] = 1\n",
    "    for i in range(0,movieNo):\n",
    "        N[:,i] = ASVD_Nu\n",
    "    ASVD_Nu = N**0.5\n",
    "    ASVD_Ru = np.sum(test_record,axis=1)\n",
    "    for i in range(0,userNo):\n",
    "        if ASVD_Ru[i] == 0:\n",
    "            ASVD_Ru[i] = 1\n",
    "    for i in range(0,movieNo):\n",
    "        R[:,i] = ASVD_Ru\n",
    "    ASVD_Ru = R**0.5\n",
    "    ASVD_QX = tf.matmul(ASVD_Q,ASVD_x,transpose_b=True)\n",
    "    ASVD_Qxt = tf.matmul(ASVD_test_record,ASVD_QX)\n",
    "    ASVD_Qxt =(test_rating - ASVD_u - ASVD_bi - ASVD_bu)*ASVD_Qxt\n",
    "    ASVD_QY = tf.matmul(ASVD_Q,ASVD_y,transpose_b=True)\n",
    "    ASVD_Qyt = tf.matmul(ASVD_train_record,ASVD_QY)\n",
    "    ASVD_predict_rating = ASVD_u + ASVD_bu + ASVD_bi + ASVD_Qxt/ASVD_Ru + ASVD_Qyt/ASVD_Nu\n",
    "    ASVD_loss = tf.reduce_sum(((train_rating-ASVD_predict_rating)*train_record)**2) + lamda*((tf.reduce_sum(ASVD_x)**2) + (tf.reduce_sum(ASVD_y)**2) + (tf.reduce_sum(ASVD_bu)**2) + (tf.reduce_sum(ASVD_bi)**2) + (tf.reduce_sum(ASVD_Q)**2))\n",
    "    return ASVD_loss,ASVD_predict_rating\n",
    "\n"
   ]
  },
  {
   "cell_type": "markdown",
   "metadata": {},
   "source": [
    "# 3. 模型训练"
   ]
  },
  {
   "cell_type": "code",
   "execution_count": 14,
   "metadata": {},
   "outputs": [],
   "source": [
    "#loss,predict = createLFM()\n",
    "#loss,predict = createBSVD()\n",
    "#loss,predict = createSVD()\n",
    "loss,predict = createASVD()"
   ]
  },
  {
   "cell_type": "code",
   "execution_count": null,
   "metadata": {},
   "outputs": [],
   "source": []
  },
  {
   "cell_type": "code",
   "execution_count": 15,
   "metadata": {},
   "outputs": [],
   "source": [
    "learning_rate = 1e-4"
   ]
  },
  {
   "cell_type": "code",
   "execution_count": 16,
   "metadata": {},
   "outputs": [],
   "source": [
    "#optimizer = tf.train.AdamOptimizer(learning_rate)\n",
    "#optimizer = tf.train.AdamOptimizer()\n",
    "#optimizer = tf.train.GradientDescentOptimizer(1e-5)\n",
    "optimizer = tf.train.GradientDescentOptimizer(learning_rate)"
   ]
  },
  {
   "cell_type": "code",
   "execution_count": 17,
   "metadata": {},
   "outputs": [],
   "source": [
    "#train = optimizer.minimize(loss,global_step= step)\n",
    "#train = optimizer.minimize(BIAS_loss)\n",
    "train = optimizer.minimize(loss)"
   ]
  },
  {
   "cell_type": "code",
   "execution_count": 18,
   "metadata": {},
   "outputs": [],
   "source": [
    "#RMSE = (tf.reduce_sum(((test_rating-predict)*test_record)**2)/testNo)**0.5\n",
    "MAE = tf.reduce_sum((tf.abs(test_rating-predict)*test_record))/testNo"
   ]
  },
  {
   "cell_type": "code",
   "execution_count": 19,
   "metadata": {},
   "outputs": [
    {
     "data": {
      "text/plain": [
       "<tf.Tensor 'MAE:0' shape=() dtype=string>"
      ]
     },
     "execution_count": 19,
     "metadata": {},
     "output_type": "execute_result"
    }
   ],
   "source": [
    "#tf.summary.scalar(\"RMSE\",RMSE)\n",
    "tf.summary.scalar(\"MAE\",MAE)"
   ]
  },
  {
   "cell_type": "code",
   "execution_count": 20,
   "metadata": {},
   "outputs": [],
   "source": [
    "summaryMerged = tf.summary.merge_all()"
   ]
  },
  {
   "cell_type": "code",
   "execution_count": 21,
   "metadata": {},
   "outputs": [],
   "source": [
    "filename='tensorboard'"
   ]
  },
  {
   "cell_type": "code",
   "execution_count": 22,
   "metadata": {},
   "outputs": [],
   "source": [
    "writer = tf.summary.FileWriter(filename)"
   ]
  },
  {
   "cell_type": "code",
   "execution_count": 23,
   "metadata": {},
   "outputs": [],
   "source": [
    "sess = tf.Session()"
   ]
  },
  {
   "cell_type": "code",
   "execution_count": 24,
   "metadata": {},
   "outputs": [],
   "source": [
    "init = tf.global_variables_initializer()"
   ]
  },
  {
   "cell_type": "code",
   "execution_count": 25,
   "metadata": {
    "scrolled": true
   },
   "outputs": [],
   "source": [
    "sess.run(init)"
   ]
  },
  {
   "cell_type": "code",
   "execution_count": 26,
   "metadata": {},
   "outputs": [
    {
     "name": "stdout",
     "output_type": "stream",
     "text": [
      "0\n",
      "100\n",
      "200\n",
      "300\n",
      "400\n"
     ]
    }
   ],
   "source": [
    "for i in range(500): \n",
    "    if i % 100 == 0:\n",
    "        print(i)\n",
    "    _, movie_summary = sess.run([train,summaryMerged])\n",
    "    writer.add_summary(movie_summary,i)\n",
    "\n"
   ]
  },
  {
   "cell_type": "code",
   "execution_count": null,
   "metadata": {},
   "outputs": [],
   "source": []
  }
 ],
 "metadata": {
  "kernelspec": {
   "display_name": "Python 3",
   "language": "python",
   "name": "python3"
  },
  "language_info": {
   "codemirror_mode": {
    "name": "ipython",
    "version": 3
   },
   "file_extension": ".py",
   "mimetype": "text/x-python",
   "name": "python",
   "nbconvert_exporter": "python",
   "pygments_lexer": "ipython3",
   "version": "3.6.5"
  }
 },
 "nbformat": 4,
 "nbformat_minor": 2
}
