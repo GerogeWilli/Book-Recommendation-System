{
 "cells": [
  {
   "cell_type": "code",
   "execution_count": 1,
   "metadata": {},
   "outputs": [
    {
     "name": "stderr",
     "output_type": "stream",
     "text": [
      "C:\\ProgramData\\Anaconda3\\lib\\site-packages\\h5py\\__init__.py:36: FutureWarning: Conversion of the second argument of issubdtype from `float` to `np.floating` is deprecated. In future, it will be treated as `np.float64 == np.dtype(float).type`.\n",
      "  from ._conv import register_converters as _register_converters\n"
     ]
    }
   ],
   "source": [
    "import numpy as np\n",
    "import pandas as pd\n",
    "import tensorflow as tf\n"
   ]
  },
  {
   "cell_type": "code",
   "execution_count": 2,
   "metadata": {},
   "outputs": [],
   "source": [
    "ratings_df = pd.read_csv('ratingsProcessed.csv')\n",
    "train_rating_df = pd.read_csv('train_rating.csv')\n",
    "test_rating_df = pd.read_csv('test_rating.csv')\n",
    "userNo,movieNo = ratings_df['userId'].max()+1,ratings_df['movieId'].max()+1\n",
    "testNo = np.shape(test_rating_df)[0]\n",
    "train_global_rating_mean = np.mean(train_rating_df[\"rating\"])\n",
    "train_rating = np.zeros((userNo,movieNo))\n",
    "for index ,row in train_rating_df.iterrows():\n",
    "    train_rating[int(row['userId']),int(row['movieId'])] = row['rating']\n",
    "test_rating = np.zeros((userNo,movieNo))\n",
    "for index ,row in test_rating_df.iterrows():\n",
    "    test_rating[int(row['userId']),int(row['movieId'])] = row['rating']\n",
    "train_record = train_rating>0\n",
    "train_record = np.array(train_record,dtype=int)\n",
    "test_record = test_rating>0\n",
    "test_record = np.array(test_record,dtype=int)"
   ]
  },
  {
   "cell_type": "code",
   "execution_count": 3,
   "metadata": {},
   "outputs": [],
   "source": [
    "def createLFM(f):\n",
    "    LFM_P = tf.Variable(tf.random_normal([userNo,f],stddev=1/(f**0.5),dtype=tf.float32))\n",
    "    LFM_Q = tf.Variable(tf.random_normal([movieNo,f],stddev=1/(f**0.5),dtype=tf.float32))\n",
    "    LFM_predict_rating = tf.matmul(LFM_P,LFM_Q,transpose_b=True)\n",
    "    LFM_loss = tf.reduce_sum(((train_rating-LFM_predict_rating)*train_record)**2) + lamda*((tf.reduce_sum(LFM_P)**2)+(tf.reduce_sum(LFM_Q)**2))\n",
    "    return LFM_loss,LFM_predict_rating"
   ]
  },
  {
   "cell_type": "code",
   "execution_count": 4,
   "metadata": {},
   "outputs": [],
   "source": [
    "def createBSVD(f):\n",
    "    BIAS_u = train_global_rating_mean\n",
    "    BIAS_bu = tf.Variable(tf.zeros((userNo,1),dtype=tf.float32))\n",
    "    BIAS_bi = tf.Variable(tf.zeros((1,movieNo),dtype=tf.float32))\n",
    "    BIAS_P = tf.Variable(tf.random_normal([userNo,f],stddev=1/(f**0.5),dtype=tf.float32))\n",
    "    BIAS_Q = tf.Variable(tf.random_normal([movieNo,f],stddev=1/(f**0.5),dtype=tf.float32))\n",
    "    BIAS_predict_rating = BIAS_u + BIAS_bu + BIAS_bi + tf.matmul(BIAS_P,BIAS_Q,transpose_b=True)\n",
    "    BIAS_loss = tf.reduce_sum(((train_rating-BIAS_predict_rating)*train_record)**2) + lamda*((tf.reduce_sum(BIAS_P)**2) + (tf.reduce_sum(BIAS_Q)**2) + (tf.reduce_sum(BIAS_bu)**2) + (tf.reduce_sum(BIAS_bi)**2))\n",
    "    return BIAS_loss,BIAS_predict_rating"
   ]
  },
  {
   "cell_type": "code",
   "execution_count": 5,
   "metadata": {},
   "outputs": [],
   "source": [
    "def createSVD(f):\n",
    "    SVD_u = train_global_rating_mean\n",
    "    SVD_bu = tf.Variable(tf.zeros((userNo,1),dtype=tf.float32))\n",
    "    SVD_bi = tf.Variable(tf.zeros((1,movieNo),dtype=tf.float32))\n",
    "    SVD_P = tf.Variable(tf.random_normal([userNo,f],stddev=1/(f**0.5),dtype=tf.float32))\n",
    "    SVD_Q = tf.Variable(tf.random_normal([movieNo,f],stddev=1/(f**0.5),dtype=tf.float32))\n",
    "    SVD_y = tf.Variable(tf.random_normal([movieNo,f],stddev=1/(f**0.5),dtype=tf.float32))\n",
    "    SVD_Nu = np.sum(train_record,axis=1)\n",
    "    N = np.zeros((userNo,movieNo),dtype=np.float32)\n",
    "    for i in range(0,userNo):\n",
    "        if SVD_Nu[i] == 0:\n",
    "            SVD_Nu[i] = 1\n",
    "    for i in range(0,movieNo):\n",
    "        N[:,i] = SVD_Nu\n",
    "    SVD_Nu = N**0.5\n",
    "    SVD_Qy=tf.matmul(SVD_Q,SVD_y,transpose_b=True)\n",
    "    SVD_tr = tf.constant(train_record,dtype=tf.float32)\n",
    "    SVD_predict_rating = SVD_u + SVD_bu + SVD_bi + tf.matmul(SVD_P,SVD_Q,transpose_b=True) + tf.matmul(SVD_tr,SVD_Qy)/SVD_Nu\n",
    "    SVD_loss = tf.reduce_sum(((train_rating-SVD_predict_rating)*train_record)**2) + lamda*((tf.reduce_sum(SVD_P)**2) + (tf.reduce_sum(SVD_Q)**2) + (tf.reduce_sum(SVD_bu)**2) + (tf.reduce_sum(SVD_bi)**2) + (tf.reduce_sum(SVD_y)**2))\n",
    "    return SVD_loss,SVD_predict_rating"
   ]
  },
  {
   "cell_type": "code",
   "execution_count": 6,
   "metadata": {},
   "outputs": [],
   "source": [
    "lamda = 0.01"
   ]
  },
  {
   "cell_type": "code",
   "execution_count": 7,
   "metadata": {},
   "outputs": [],
   "source": [
    "learning_rate = 1e-4"
   ]
  },
  {
   "cell_type": "code",
   "execution_count": 8,
   "metadata": {},
   "outputs": [],
   "source": [
    "filename='tensorboard\\\\f'"
   ]
  },
  {
   "cell_type": "code",
   "execution_count": 9,
   "metadata": {},
   "outputs": [],
   "source": [
    "#loss,predict = createLFM(9)\n",
    "loss,predict = createSVD(9)\n",
    "optimizer = tf.train.GradientDescentOptimizer(learning_rate)\n",
    "train = optimizer.minimize(loss)\n",
    "RMSE = (tf.reduce_sum(((test_rating-predict)*test_record)**2)/testNo)**0.5\n",
    "tf.summary.scalar(\"RMSE\",RMSE)\n",
    "summaryMerged = tf.summary.merge_all()\n",
    "writer = tf.summary.FileWriter(filename)\n",
    "sess = tf.Session()\n",
    "init = tf.global_variables_initializer()\n",
    "sess.run(init)"
   ]
  },
  {
   "cell_type": "code",
   "execution_count": 10,
   "metadata": {},
   "outputs": [
    {
     "name": "stdout",
     "output_type": "stream",
     "text": [
      "10\n",
      "30\n",
      "50\n",
      "80\n",
      "100\n",
      "150\n",
      "200\n"
     ]
    }
   ],
   "source": [
    "for fc in [10,30,50,80,100,150,200]:\n",
    "    #loss,predict = createLFM(fc)\n",
    "    #loss,predict = createBSVD(fc)\n",
    "    loss,predict = createSVD(fc)\n",
    "    train = optimizer.minimize(loss)\n",
    "    init = tf.global_variables_initializer()\n",
    "    sess.run(init)\n",
    "    for i in range(500): \n",
    "        sess.run(train)\n",
    "    movie_summary = sess.run(summaryMerged)\n",
    "    writer.add_summary(movie_summary,fc)\n",
    "    print(fc)"
   ]
  },
  {
   "cell_type": "code",
   "execution_count": null,
   "metadata": {},
   "outputs": [],
   "source": []
  },
  {
   "cell_type": "code",
   "execution_count": null,
   "metadata": {},
   "outputs": [],
   "source": []
  }
 ],
 "metadata": {
  "kernelspec": {
   "display_name": "Python 3",
   "language": "python",
   "name": "python3"
  },
  "language_info": {
   "codemirror_mode": {
    "name": "ipython",
    "version": 3
   },
   "file_extension": ".py",
   "mimetype": "text/x-python",
   "name": "python",
   "nbconvert_exporter": "python",
   "pygments_lexer": "ipython3",
   "version": "3.6.5"
  }
 },
 "nbformat": 4,
 "nbformat_minor": 2
}
