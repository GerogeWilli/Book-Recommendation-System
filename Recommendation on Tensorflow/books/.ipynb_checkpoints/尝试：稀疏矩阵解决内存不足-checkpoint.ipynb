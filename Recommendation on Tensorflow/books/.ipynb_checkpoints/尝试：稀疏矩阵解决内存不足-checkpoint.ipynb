{
 "cells": [
  {
   "cell_type": "code",
   "execution_count": null,
   "metadata": {},
   "outputs": [],
   "source": []
  },
  {
   "cell_type": "code",
   "execution_count": null,
   "metadata": {},
   "outputs": [],
   "source": []
  },
  {
   "cell_type": "code",
   "execution_count": null,
   "metadata": {},
   "outputs": [],
   "source": []
  },
  {
   "cell_type": "code",
   "execution_count": null,
   "metadata": {},
   "outputs": [],
   "source": []
  },
  {
   "cell_type": "code",
   "execution_count": null,
   "metadata": {},
   "outputs": [],
   "source": []
  },
  {
   "cell_type": "code",
   "execution_count": null,
   "metadata": {},
   "outputs": [],
   "source": []
  },
  {
   "cell_type": "code",
   "execution_count": null,
   "metadata": {},
   "outputs": [],
   "source": []
  },
  {
   "cell_type": "code",
   "execution_count": null,
   "metadata": {},
   "outputs": [],
   "source": []
  },
  {
   "cell_type": "code",
   "execution_count": null,
   "metadata": {},
   "outputs": [],
   "source": [
    "def createBSVD():\n",
    "    BIAS_u = train_global_rating_mean\n",
    "    BIAS_bu = tf.Variable(tf.zeros((userNo,1),dtype=tf.float32))\n",
    "    BIAS_bi = tf.Variable(tf.zeros((1,movieNo),dtype=tf.float32))\n",
    "    BIAS_P = tf.Variable(tf.random_normal([userNo,f],stddev=1/(f**0.5),dtype=tf.float32))\n",
    "    BIAS_Q = tf.Variable(tf.random_normal([movieNo,f],stddev=1/(f**0.5),dtype=tf.float32))\n",
    "    BIAS_predict_rating = BIAS_u + BIAS_bu + BIAS_bi + tf.matmul(BIAS_P,BIAS_Q,transpose_b=True)\n",
    "    BIAS_loss = tf.reduce_sum(((train_rating-BIAS_predict_rating)*train_record)**2) + lamda*((tf.reduce_sum(BIAS_P)**2) + (tf.reduce_sum(BIAS_Q)**2) + (tf.reduce_sum(BIAS_bu)**2) + (tf.reduce_sum(BIAS_bi)**2))\n",
    "    return BIAS_loss,BIAS_predict_rating"
   ]
  }
 ],
 "metadata": {
  "kernelspec": {
   "display_name": "Python 3",
   "language": "python",
   "name": "python3"
  },
  "language_info": {
   "codemirror_mode": {
    "name": "ipython",
    "version": 3
   },
   "file_extension": ".py",
   "mimetype": "text/x-python",
   "name": "python",
   "nbconvert_exporter": "python",
   "pygments_lexer": "ipython3",
   "version": "3.6.6"
  }
 },
 "nbformat": 4,
 "nbformat_minor": 2
}
