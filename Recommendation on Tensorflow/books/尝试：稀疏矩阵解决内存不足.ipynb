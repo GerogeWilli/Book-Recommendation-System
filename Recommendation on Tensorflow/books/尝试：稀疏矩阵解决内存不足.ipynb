{
 "cells": [
  {
   "cell_type": "code",
   "execution_count": null,
   "metadata": {},
   "outputs": [],
   "source": [
    "import numpy as np\n",
    "import pandas as pd\n",
    "import tensorflow as tf"
   ]
  },
  {
   "cell_type": "code",
   "execution_count": null,
   "metadata": {},
   "outputs": [],
   "source": [
    "ratings_df = pd.read_csv('ratingsProcessed.csv')\n",
    "train_rating_df = pd.read_csv('train_rating.csv')\n",
    "test_rating_df = pd.read_csv('test_rating.csv')\n",
    "userNo,movieNo = ratings_df['userId'].max()+1,ratings_df['movieId'].max()+1\n",
    "testNo = np.shape(test_rating_df)[0]"
   ]
  },
  {
   "cell_type": "code",
   "execution_count": null,
   "metadata": {},
   "outputs": [],
   "source": [
    "userNo,movieNo,testNo"
   ]
  },
  {
   "cell_type": "code",
   "execution_count": null,
   "metadata": {},
   "outputs": [],
   "source": [
    "train_global_rating_mean = np.mean(train_rating_df[\"rating\"])"
   ]
  },
  {
   "cell_type": "code",
   "execution_count": null,
   "metadata": {},
   "outputs": [],
   "source": [
    "train_rating = np.zeros((userNo,movieNo))\n",
    "for index ,row in train_rating_df.iterrows():\n",
    "    train_rating[int(row['userId']),int(row['movieId'])] = row['rating']\n",
    "test_rating = np.zeros((userNo,movieNo))\n",
    "for index ,row in test_rating_df.iterrows():\n",
    "    test_rating[int(row['userId']),int(row['movieId'])] = row['rating']"
   ]
  },
  {
   "cell_type": "code",
   "execution_count": null,
   "metadata": {},
   "outputs": [],
   "source": [
    "train_record = train_rating>0\n",
    "train_record = np.array(train_record,dtype=int)\n",
    "test_record = test_rating>0\n",
    "test_record = np.array(test_record,dtype=int)"
   ]
  },
  {
   "cell_type": "code",
   "execution_count": null,
   "metadata": {},
   "outputs": [],
   "source": [
    "f = 100\n",
    "lamda = 0.01"
   ]
  },
  {
   "cell_type": "code",
   "execution_count": null,
   "metadata": {},
   "outputs": [],
   "source": []
  },
  {
   "cell_type": "code",
   "execution_count": null,
   "metadata": {},
   "outputs": [],
   "source": [
    "def createBSVD(userNo,bookNo,f):\n",
    "    BIAS_u = train_global_rating_mean\n",
    "    BIAS_bu = tf.Variable(tf.zeros((userNo,1),dtype=tf.float32))\n",
    "    BIAS_bi = tf.Variable(tf.zeros((1,bookNo),dtype=tf.float32))\n",
    "    BIAS_P = tf.Variable(tf.random_normal([userNo,f],stddev=1/(f**0.5),dtype=tf.float32))\n",
    "    BIAS_Q = tf.Variable(tf.random_normal([movieNo,f],stddev=1/(f**0.5),dtype=tf.float32))\n",
    "    BIAS_predict_rating = BIAS_u + BIAS_bu + BIAS_bi + tf.matmul(BIAS_P,BIAS_Q,transpose_b=True)\n",
    "    BIAS_loss = tf.reduce_sum(((train_rating-BIAS_predict_rating)*train_record)**2) + lamda*((tf.reduce_sum(BIAS_P)**2) + (tf.reduce_sum(BIAS_Q)**2) + (tf.reduce_sum(BIAS_bu)**2) + (tf.reduce_sum(BIAS_bi)**2))\n",
    "    return BIAS_loss,BIAS_predict_rating"
   ]
  }
 ],
 "metadata": {
  "kernelspec": {
   "display_name": "Python 3",
   "language": "python",
   "name": "python3"
  },
  "language_info": {
   "codemirror_mode": {
    "name": "ipython",
    "version": 3
   },
   "file_extension": ".py",
   "mimetype": "text/x-python",
   "name": "python",
   "nbconvert_exporter": "python",
   "pygments_lexer": "ipython3",
   "version": "3.6.5"
  }
 },
 "nbformat": 4,
 "nbformat_minor": 2
}
